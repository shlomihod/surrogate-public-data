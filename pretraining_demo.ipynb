{
 "cells": [
  {
   "cell_type": "code",
   "execution_count": 1,
   "metadata": {},
   "outputs": [],
   "source": [
    "# NOTE: this clashes with smartnoise! dunno how to deal with, but we use this opacus\n",
    "# for fttransformer, so we need to install it here\n",
    "# ! pip install opacus==1.5.2"
   ]
  },
  {
   "cell_type": "code",
   "execution_count": 18,
   "metadata": {},
   "outputs": [],
   "source": [
    "import numpy as np\n",
    "import pandas as pd\n",
    "import torch\n",
    "\n",
    "from sklearn.metrics import f1_score, accuracy_score, roc_auc_score, precision_recall_curve, classification_report\n",
    "from sklearn.model_selection import train_test_split\n",
    "from sklearn.ensemble import RandomForestClassifier\n",
    "from xgboost import XGBClassifier\n",
    "\n",
    "import ydnpd\n",
    "\n",
    "from ydnpd.datasets.loader import load_dataset, split_train_eval_datasets\n",
    "\n",
    "from ydnpd.pretraining.ft_transformer import FTTransformerModel\n",
    "from ydnpd.pretraining.utils import preprocess_acs_for_ft_transformer, preprocess_acs_for_classification, print_model_performance\n",
    "\n",
    "from pathlib import Path\n",
    "\n",
    "LLM_PATH = \"llm_datasets\"\n",
    "DATA_PATH = 'ydnpd/datasets/data'\n"
   ]
  },
  {
   "cell_type": "code",
   "execution_count": 19,
   "metadata": {},
   "outputs": [],
   "source": [
    "LLM_EXPERIMENTS = {\n",
    "    experiment_name:\n",
    "    [\n",
    "        (f\"{experiment_name}/{path.stem}\", LLM_PATH)\n",
    "        for path in Path(f\"{LLM_PATH}/{experiment_name}\").glob(\"*.csv\")\n",
    "        ]\n",
    "        for experiment_name in [\"acs\"]\n",
    "}\n",
    "\n",
    "\n",
    "EXPERIMENTS = {\n",
    "    experiment_name:\n",
    "    [\n",
    "        (f\"{experiment_name}/{path.stem}\", DATA_PATH)\n",
    "        for path in Path(f\"{DATA_PATH}/{experiment_name}\").glob(\"*.csv\")\n",
    "        ]\n",
    "        for experiment_name in [\"acs\"]\n",
    "}"
   ]
  },
  {
   "cell_type": "code",
   "execution_count": 21,
   "metadata": {},
   "outputs": [],
   "source": [
    "real_dataset, real_processed_schema, real_domain = load_dataset('acs/national', path=DATA_PATH)\n",
    "llm_dataset, llm_processed_schema, llm_domain = load_dataset(LLM_EXPERIMENTS['acs'][0][0], path=LLM_PATH)"
   ]
  },
  {
   "cell_type": "code",
   "execution_count": 23,
   "metadata": {},
   "outputs": [
    {
     "data": {
      "text/plain": [
       "'acs/csv-claude'"
      ]
     },
     "execution_count": 23,
     "metadata": {},
     "output_type": "execute_result"
    }
   ],
   "source": [
    "LLM_EXPERIMENTS['acs'][0][0]"
   ]
  },
  {
   "cell_type": "markdown",
   "metadata": {},
   "source": [
    "### Baseline, non-private"
   ]
  },
  {
   "cell_type": "code",
   "execution_count": 22,
   "metadata": {},
   "outputs": [
    {
     "name": "stdout",
     "output_type": "stream",
     "text": [
      "Base accuracy: 0.4996924496386283\n",
      "              precision    recall  f1-score   support\n",
      "\n",
      "           0       0.50      1.00      0.67      6507\n",
      "           1       0.00      0.00      0.00      6499\n",
      "\n",
      "    accuracy                           0.50     13006\n",
      "   macro avg       0.25      0.50      0.33     13006\n",
      "weighted avg       0.25      0.50      0.33     13006\n",
      "\n",
      "AUC: 0.5\n",
      "Random Forest\n"
     ]
    },
    {
     "name": "stderr",
     "output_type": "stream",
     "text": [
      "/home/ec2-user/miniconda3/envs/shlomi-yndpd/lib/python3.10/site-packages/sklearn/metrics/_classification.py:1565: UndefinedMetricWarning: Precision is ill-defined and being set to 0.0 in labels with no predicted samples. Use `zero_division` parameter to control this behavior.\n",
      "  _warn_prf(average, modifier, f\"{metric.capitalize()} is\", len(result))\n",
      "/home/ec2-user/miniconda3/envs/shlomi-yndpd/lib/python3.10/site-packages/sklearn/metrics/_classification.py:1565: UndefinedMetricWarning: Precision is ill-defined and being set to 0.0 in labels with no predicted samples. Use `zero_division` parameter to control this behavior.\n",
      "  _warn_prf(average, modifier, f\"{metric.capitalize()} is\", len(result))\n",
      "/home/ec2-user/miniconda3/envs/shlomi-yndpd/lib/python3.10/site-packages/sklearn/metrics/_classification.py:1565: UndefinedMetricWarning: Precision is ill-defined and being set to 0.0 in labels with no predicted samples. Use `zero_division` parameter to control this behavior.\n",
      "  _warn_prf(average, modifier, f\"{metric.capitalize()} is\", len(result))\n"
     ]
    },
    {
     "name": "stdout",
     "output_type": "stream",
     "text": [
      "              precision    recall  f1-score   support\n",
      "\n",
      "           0       0.67      0.68      0.68      1622\n",
      "           1       0.68      0.67      0.67      1630\n",
      "\n",
      "    accuracy                           0.67      3252\n",
      "   macro avg       0.67      0.67      0.67      3252\n",
      "weighted avg       0.67      0.67      0.67      3252\n",
      "\n",
      "AUC: 0.6746764200827579\n",
      "\n",
      "XGBoost\n",
      "              precision    recall  f1-score   support\n",
      "\n",
      "           0       0.70      0.69      0.70      1622\n",
      "           1       0.70      0.71      0.70      1630\n",
      "\n",
      "    accuracy                           0.70      3252\n",
      "   macro avg       0.70      0.70      0.70      3252\n",
      "weighted avg       0.70      0.70      0.70      3252\n",
      "\n",
      "AUC: 0.6998600531041734\n",
      "\n"
     ]
    }
   ],
   "source": [
    "real_df = preprocess_acs_for_classification(real_dataset)\n",
    "X = real_df.drop('y', axis=1)\n",
    "y = real_df['y']\n",
    "\n",
    "X_train_real, X_test_real, y_train_real, y_test_real = train_test_split(X, y, test_size=0.2)\n",
    "\n",
    "# naive classifier\n",
    "print(f\"Base accuracy: {y_train_real.sum() / len(y_train_real)}\")\n",
    "print(classification_report(y_train_real, np.zeros_like(y_train_real)))\n",
    "print('AUC:', roc_auc_score(y_train_real, np.zeros_like(y_train_real)))\n",
    "\n",
    "# random forest\n",
    "print('Random Forest')\n",
    "rf = RandomForestClassifier()\n",
    "rf.fit(X_train_real, y_train_real)\n",
    "y_pred_real = rf.predict(X_test_real)\n",
    "print(classification_report(y_test_real, y_pred_real))\n",
    "print('AUC:', roc_auc_score(y_test_real, y_pred_real))\n",
    "print()\n",
    "\n",
    "# xgboost\n",
    "print('XGBoost')\n",
    "xgb = XGBClassifier()\n",
    "xgb.fit(X_train_real, y_train_real)\n",
    "y_pred_real = xgb.predict(X_test_real)\n",
    "print(classification_report(y_test_real, y_pred_real))\n",
    "print('AUC:', roc_auc_score(y_test_real, y_pred_real))\n",
    "print()\n"
   ]
  },
  {
   "cell_type": "markdown",
   "metadata": {},
   "source": [
    "### Privacy, with FTTransformer"
   ]
  },
  {
   "cell_type": "code",
   "execution_count": 6,
   "metadata": {},
   "outputs": [
    {
     "name": "stdout",
     "output_type": "stream",
     "text": [
      "column SEX is categorical\n",
      "column MSP is categorical\n",
      "column RAC1P is categorical\n",
      "column PINCP_DECILE is categorical\n",
      "column EDU is categorical\n",
      "column HOUSING_TYPE is categorical\n",
      "{'SEX', 'EDU', 'HOUSING_TYPE', 'RAC1P', 'PINCP_DECILE', 'MSP'}\n",
      "Index(['SEX', 'MSP', 'RAC1P', 'PINCP_DECILE', 'EDU', 'HOUSING_TYPE'], dtype='object')\n",
      "[0 1]\n",
      "[4 0 5 2 3 1]\n",
      "[1 0 6 4 7 2 5 3]\n",
      "[6 7 9 2 3 0 4 8 5 1]\n",
      "[ 3  7  9  4 11  6  8  5  0  2 10  1]\n",
      "[0]\n",
      "cat training features shape: (13006, 6)\n",
      "cont training features shape: (13006, 0)\n",
      "cat val features shape: (3252, 6)\n",
      "cont val features shape: (3252, 0)\n",
      "training targets shape: (13006,)\n",
      "val targets shape: (3252,)\n",
      "cat feature cards: [2, 6, 8, 10, 12, 1]\n",
      "config: {'SEX': {'type': 'categorical'}, 'MSP': {'type': 'categorical'}, 'RAC1P': {'type': 'categorical'}, 'PINCP_DECILE': {'type': 'categorical'}, 'EDU': {'type': 'categorical'}, 'HOUSING_TYPE': {'type': 'categorical'}}\n",
      "{'SEX', 'EDU', 'HOUSING_TYPE', 'RAC1P', 'PINCP_DECILE', 'MSP'}\n",
      "Index(['SEX', 'MSP', 'RAC1P', 'PINCP_DECILE', 'EDU', 'HOUSING_TYPE'], dtype='object')\n",
      "[1 0]\n",
      "[0 3 2 5 1 4]\n",
      "[0 7 1 5 2 8 6 4 3]\n",
      "[6 3 4 5 2 9 0 8 7 1]\n",
      "[ 7  4  6  3 10  1  9  5 11  8  2  0]\n",
      "[0]\n",
      "cat training features shape: (13969, 6)\n",
      "cont training features shape: (13969, 0)\n",
      "cat val features shape: (3493, 6)\n",
      "cont val features shape: (3493, 0)\n",
      "training targets shape: (13969,)\n",
      "val targets shape: (3493,)\n",
      "cat feature cards: [2, 6, 9, 10, 12, 1]\n",
      "config: {'SEX': {'type': 'categorical'}, 'MSP': {'type': 'categorical'}, 'RAC1P': {'type': 'categorical'}, 'PINCP_DECILE': {'type': 'categorical'}, 'EDU': {'type': 'categorical'}, 'HOUSING_TYPE': {'type': 'categorical'}}\n"
     ]
    }
   ],
   "source": [
    "(\n",
    "    X_cat_train,\n",
    "    X_cont_train,\n",
    "    X_cat_valid,\n",
    "    X_cont_valid,\n",
    "    y_train,\n",
    "    y_valid,\n",
    "    cat_cardinalities,\n",
    "    config\n",
    ") = preprocess_acs_for_ft_transformer(real_dataset)\n",
    "\n",
    "(\n",
    "    X_cat_train_llm,\n",
    "    X_cont_train_llm,\n",
    "    X_cat_valid_llm,\n",
    "    X_cont_valid_llm,\n",
    "    y_train_llm,\n",
    "    y_valid_llm,\n",
    "    cat_cardinalities_llm,\n",
    "    _\n",
    ") = preprocess_acs_for_ft_transformer(llm_dataset, config=config)\n"
   ]
  },
  {
   "cell_type": "code",
   "execution_count": 7,
   "metadata": {},
   "outputs": [
    {
     "name": "stdout",
     "output_type": "stream",
     "text": [
      "tensor(False)\n",
      "tensor(False)\n",
      "tensor(False)\n"
     ]
    }
   ],
   "source": [
    "print(torch.isnan(X_cat_train).any())\n",
    "print(torch.isnan(X_cont_train).any())\n",
    "print(torch.isnan(y_train).any())"
   ]
  },
  {
   "cell_type": "markdown",
   "metadata": {},
   "source": [
    "#### Baseline, Non-private"
   ]
  },
  {
   "cell_type": "code",
   "execution_count": 24,
   "metadata": {},
   "outputs": [
    {
     "name": "stderr",
     "output_type": "stream",
     "text": [
      "epoch 1/20 loss: 0.8118:   0%|          | 0/92 [00:00<?, ?batch/s]"
     ]
    },
    {
     "name": "stderr",
     "output_type": "stream",
     "text": [
      "epoch 1/20 loss: 0.5477: 100%|██████████| 92/92 [00:01<00:00, 68.57batch/s]\n"
     ]
    },
    {
     "name": "stdout",
     "output_type": "stream",
     "text": [
      "val loss - new best: 0.6284480690956116\n",
      "val accuracy - new best: 0.6571867794004612\n",
      "val AUC - new best: 0.6988380516768705\n",
      "epoch 1, validation loss: 0.6284480690956116, epochs without improvement: 0/10\n",
      "reached 1.\n",
      "epoch 1, val loss: 0.6284480690956116, epochs without improvement: 0/10\n",
      "val accuracy - new best: 0.6571867794004612\n",
      "val auc - new best: 0.6988380516768705\n"
     ]
    },
    {
     "name": "stderr",
     "output_type": "stream",
     "text": [
      "epoch 2/20 loss: 0.6088: 100%|██████████| 92/92 [00:01<00:00, 69.16batch/s]\n"
     ]
    },
    {
     "name": "stdout",
     "output_type": "stream",
     "text": [
      "val loss - new best: 0.6220353841781616\n",
      "val accuracy - new best: 0.6694850115295926\n",
      "val AUC - new best: 0.7133553033423771\n",
      "epoch 2, validation loss: 0.6220353841781616, epochs without improvement: 0/10\n"
     ]
    },
    {
     "name": "stderr",
     "output_type": "stream",
     "text": [
      "epoch 3/20 loss: 0.6430: 100%|██████████| 92/92 [00:01<00:00, 69.11batch/s]\n"
     ]
    },
    {
     "name": "stdout",
     "output_type": "stream",
     "text": [
      "val loss - new best: 0.6173290014266968\n",
      "val accuracy - new best: 0.6679477325134512\n",
      "val AUC - new best: 0.7188998896764631\n",
      "epoch 3, validation loss: 0.6173290014266968, epochs without improvement: 0/10\n"
     ]
    },
    {
     "name": "stderr",
     "output_type": "stream",
     "text": [
      "epoch 4/20 loss: 0.6142: 100%|██████████| 92/92 [00:01<00:00, 69.05batch/s]\n"
     ]
    },
    {
     "name": "stdout",
     "output_type": "stream",
     "text": [
      "epoch 4, validation loss: 0.6218641996383667, epochs without improvement: 1/10\n"
     ]
    },
    {
     "name": "stderr",
     "output_type": "stream",
     "text": [
      "epoch 5/20 loss: 0.6050: 100%|██████████| 92/92 [00:01<00:00, 69.02batch/s]\n"
     ]
    },
    {
     "name": "stdout",
     "output_type": "stream",
     "text": [
      "val loss - new best: 0.6127835512161255\n",
      "val accuracy - new best: 0.6740968485780169\n",
      "val AUC - new best: 0.7241011946192417\n",
      "epoch 5, validation loss: 0.6127835512161255, epochs without improvement: 0/10\n",
      "reached 5.\n",
      "epoch 5, val loss: 0.6127835512161255, epochs without improvement: 0/10\n",
      "val accuracy - new best: 0.6740968485780169\n",
      "val auc - new best: 0.7241011946192417\n"
     ]
    },
    {
     "name": "stderr",
     "output_type": "stream",
     "text": [
      "epoch 6/20 loss: 0.5662: 100%|██████████| 92/92 [00:01<00:00, 69.00batch/s]\n"
     ]
    },
    {
     "name": "stdout",
     "output_type": "stream",
     "text": [
      "epoch 6, validation loss: 0.6134600043296814, epochs without improvement: 1/10\n"
     ]
    },
    {
     "name": "stderr",
     "output_type": "stream",
     "text": [
      "epoch 7/20 loss: 0.6902: 100%|██████████| 92/92 [00:01<00:00, 68.99batch/s]\n"
     ]
    },
    {
     "name": "stdout",
     "output_type": "stream",
     "text": [
      "epoch 7, validation loss: 0.6189151406288147, epochs without improvement: 2/10\n"
     ]
    },
    {
     "name": "stderr",
     "output_type": "stream",
     "text": [
      "epoch 8/20 loss: 0.6117: 100%|██████████| 92/92 [00:01<00:00, 68.96batch/s]\n"
     ]
    },
    {
     "name": "stdout",
     "output_type": "stream",
     "text": [
      "val loss - new best: 0.6111562252044678\n",
      "val accuracy - new best: 0.6748654880860876\n",
      "val AUC - new best: 0.7302068684687756\n",
      "epoch 8, validation loss: 0.6111562252044678, epochs without improvement: 0/10\n"
     ]
    },
    {
     "name": "stderr",
     "output_type": "stream",
     "text": [
      "epoch 9/20 loss: 0.5377: 100%|██████████| 92/92 [00:01<00:00, 68.97batch/s]\n"
     ]
    },
    {
     "name": "stdout",
     "output_type": "stream",
     "text": [
      "epoch 9, validation loss: 0.6139976382255554, epochs without improvement: 1/10\n",
      "reached 9.\n",
      "epoch 9, val loss: 0.6139976382255554, epochs without improvement: 1/10\n",
      "val accuracy - new best: 0.6748654880860876\n",
      "val auc - new best: 0.7302068684687756\n"
     ]
    },
    {
     "name": "stderr",
     "output_type": "stream",
     "text": [
      "epoch 10/20 loss: 0.6116: 100%|██████████| 92/92 [00:01<00:00, 59.38batch/s]\n"
     ]
    },
    {
     "name": "stdout",
     "output_type": "stream",
     "text": [
      "val loss - new best: 0.6090763211250305\n",
      "val accuracy - new best: 0.6717909300538047\n",
      "val AUC - new best: 0.7349039048850126\n",
      "epoch 10, validation loss: 0.6090763211250305, epochs without improvement: 0/10\n"
     ]
    },
    {
     "name": "stderr",
     "output_type": "stream",
     "text": [
      "epoch 11/20 loss: 0.6000: 100%|██████████| 92/92 [00:01<00:00, 68.81batch/s]\n"
     ]
    },
    {
     "name": "stdout",
     "output_type": "stream",
     "text": [
      "epoch 11, validation loss: 0.6124808192253113, epochs without improvement: 1/10\n"
     ]
    },
    {
     "name": "stderr",
     "output_type": "stream",
     "text": [
      "epoch 12/20 loss: 0.6435: 100%|██████████| 92/92 [00:01<00:00, 68.81batch/s]\n"
     ]
    },
    {
     "name": "stdout",
     "output_type": "stream",
     "text": [
      "val loss - new best: 0.6073511242866516\n",
      "val accuracy - new best: 0.6733282090699462\n",
      "val AUC - new best: 0.7338172417221835\n",
      "epoch 12, validation loss: 0.6073511242866516, epochs without improvement: 0/10\n"
     ]
    },
    {
     "name": "stderr",
     "output_type": "stream",
     "text": [
      "epoch 13/20 loss: 0.5430: 100%|██████████| 92/92 [00:01<00:00, 68.78batch/s]\n"
     ]
    },
    {
     "name": "stdout",
     "output_type": "stream",
     "text": [
      "epoch 13, validation loss: 0.6100810766220093, epochs without improvement: 1/10\n",
      "reached 13.\n",
      "epoch 13, val loss: 0.6100810766220093, epochs without improvement: 1/10\n",
      "val accuracy - new best: 0.6733282090699462\n",
      "val auc - new best: 0.7338172417221835\n"
     ]
    },
    {
     "name": "stderr",
     "output_type": "stream",
     "text": [
      "epoch 14/20 loss: 0.5712: 100%|██████████| 92/92 [00:01<00:00, 68.76batch/s]\n"
     ]
    },
    {
     "name": "stdout",
     "output_type": "stream",
     "text": [
      "val loss - new best: 0.6059876084327698\n",
      "val accuracy - new best: 0.6787086856264412\n",
      "val AUC - new best: 0.7351004038883129\n",
      "epoch 14, validation loss: 0.6059876084327698, epochs without improvement: 0/10\n"
     ]
    },
    {
     "name": "stderr",
     "output_type": "stream",
     "text": [
      "epoch 15/20 loss: 0.5720: 100%|██████████| 92/92 [00:01<00:00, 68.79batch/s]\n"
     ]
    },
    {
     "name": "stdout",
     "output_type": "stream",
     "text": [
      "epoch 15, validation loss: 0.6081082224845886, epochs without improvement: 1/10\n"
     ]
    },
    {
     "name": "stderr",
     "output_type": "stream",
     "text": [
      "epoch 16/20 loss: 0.6315: 100%|██████████| 92/92 [00:01<00:00, 68.82batch/s]\n"
     ]
    },
    {
     "name": "stdout",
     "output_type": "stream",
     "text": [
      "epoch 16, validation loss: 0.6128257513046265, epochs without improvement: 2/10\n"
     ]
    },
    {
     "name": "stderr",
     "output_type": "stream",
     "text": [
      "epoch 17/20 loss: 0.5598: 100%|██████████| 92/92 [00:01<00:00, 68.82batch/s]\n"
     ]
    },
    {
     "name": "stdout",
     "output_type": "stream",
     "text": [
      "epoch 17, validation loss: 0.6059964299201965, epochs without improvement: 3/10\n",
      "reached 17.\n",
      "epoch 17, val loss: 0.6059964299201965, epochs without improvement: 3/10\n",
      "val accuracy - new best: 0.6787086856264412\n",
      "val auc - new best: 0.7351004038883129\n"
     ]
    },
    {
     "name": "stderr",
     "output_type": "stream",
     "text": [
      "epoch 18/20 loss: 0.5998: 100%|██████████| 92/92 [00:01<00:00, 68.78batch/s]\n"
     ]
    },
    {
     "name": "stdout",
     "output_type": "stream",
     "text": [
      "epoch 18, validation loss: 0.6074085235595703, epochs without improvement: 4/10\n"
     ]
    },
    {
     "name": "stderr",
     "output_type": "stream",
     "text": [
      "epoch 19/20 loss: 0.6096: 100%|██████████| 92/92 [00:01<00:00, 68.80batch/s]\n"
     ]
    },
    {
     "name": "stdout",
     "output_type": "stream",
     "text": [
      "epoch 19, validation loss: 0.6071377992630005, epochs without improvement: 5/10\n"
     ]
    },
    {
     "name": "stderr",
     "output_type": "stream",
     "text": [
      "epoch 20/20 loss: 0.6160: 100%|██████████| 92/92 [00:01<00:00, 68.80batch/s]\n"
     ]
    },
    {
     "name": "stdout",
     "output_type": "stream",
     "text": [
      "val loss - new best: 0.6004096269607544\n",
      "val accuracy - new best: 0.6840891621829363\n",
      "val AUC - new best: 0.7425152819405578\n",
      "epoch 20, validation loss: 0.6004096269607544, epochs without improvement: 0/10\n"
     ]
    }
   ],
   "source": [
    "classifier = FTTransformerModel(\n",
    "    dim = 32,\n",
    "    dim_out = 2,\n",
    "    depth = 6,\n",
    "    heads = 8,\n",
    "    attn_dropout = 0.1,\n",
    "    ff_dropout = 0.1,\n",
    "    batch_size=128,\n",
    "    num_epochs=20,\n",
    "    lr=3e-4,\n",
    "    load_best_model_when_trained=True,\n",
    "    verbose=True)\n",
    "\n",
    "classifier.fit(X_cat_train, X_cont_train, y_train.flatten(), cat_cardinalities, X_cont_train.shape[1], use_class_weights=True)"
   ]
  },
  {
   "cell_type": "code",
   "execution_count": 25,
   "metadata": {},
   "outputs": [
    {
     "name": "stdout",
     "output_type": "stream",
     "text": [
      "\n",
      "AUC: 0.7354\n",
      "Optimal Threshold: 0.3765\n",
      "              precision    recall  f1-score   support\n",
      "\n",
      "         0.0       0.73      0.55      0.63      1640\n",
      "         1.0       0.64      0.80      0.71      1612\n",
      "\n",
      "    accuracy                           0.67      3252\n",
      "   macro avg       0.69      0.67      0.67      3252\n",
      "weighted avg       0.69      0.67      0.67      3252\n",
      "\n",
      "\n"
     ]
    }
   ],
   "source": [
    "print_model_performance(classifier, X_cat_valid, X_cont_valid, y_valid)"
   ]
  },
  {
   "cell_type": "markdown",
   "metadata": {},
   "source": [
    "### Just Private, no pretraining"
   ]
  },
  {
   "cell_type": "code",
   "execution_count": 26,
   "metadata": {},
   "outputs": [
    {
     "name": "stderr",
     "output_type": "stream",
     "text": [
      "/home/ec2-user/miniconda3/envs/shlomi-yndpd/lib/python3.10/site-packages/opacus/privacy_engine.py:95: UserWarning: Secure RNG turned off. This is perfectly fine for experimentation as it allows for much faster training performance, but remember to turn it on and retrain one last time before production with ``secure_mode`` turned on.\n",
      "  warnings.warn(\n",
      "/home/ec2-user/miniconda3/envs/shlomi-yndpd/lib/python3.10/site-packages/opacus/accountants/analysis/rdp.py:332: UserWarning: Optimal order is the largest alpha. Please consider expanding the range of alphas to get a tighter privacy bound.\n",
      "  warnings.warn(\n"
     ]
    },
    {
     "name": "stderr",
     "output_type": "stream",
     "text": [
      "epoch 1/20:   0%|          | 0/92 [00:00<?, ?batch/s]/home/ec2-user/miniconda3/envs/shlomi-yndpd/lib/python3.10/site-packages/torch/nn/modules/module.py:1827: FutureWarning: Using a non-full backward hook when the forward contains multiple autograd Nodes is deprecated and will be removed in future versions. This hook will be missing some grad_input. Please use register_full_backward_hook to get the documented behavior.\n",
      "  self._maybe_warn_non_full_backward_hook(args, result, grad_fn)\n",
      "epoch 1/20 loss: 0.7498: 100%|██████████| 92/92 [00:05<00:00, 16.71batch/s]\n"
     ]
    },
    {
     "name": "stdout",
     "output_type": "stream",
     "text": [
      "val loss - new best: 0.7142237424850464\n",
      "val accuracy - new best: 0.5026902382782475\n",
      "val AUC - new best: 0.5096024091251296\n",
      "epoch 1, validation loss: 0.7142237424850464, epochs without improvement: 0/10\n",
      "reached 1.\n",
      "epoch 1, val loss: 0.7142237424850464, epochs without improvement: 0/10\n",
      "val accuracy - new best: 0.5026902382782475\n",
      "val auc - new best: 0.5096024091251296\n"
     ]
    },
    {
     "name": "stderr",
     "output_type": "stream",
     "text": [
      "epoch 2/20:   0%|          | 0/92 [00:00<?, ?batch/s]/home/ec2-user/miniconda3/envs/shlomi-yndpd/lib/python3.10/site-packages/torch/nn/modules/module.py:1827: FutureWarning: Using a non-full backward hook when the forward contains multiple autograd Nodes is deprecated and will be removed in future versions. This hook will be missing some grad_input. Please use register_full_backward_hook to get the documented behavior.\n",
      "  self._maybe_warn_non_full_backward_hook(args, result, grad_fn)\n",
      "epoch 2/20 loss: 0.7207: 100%|██████████| 92/92 [00:05<00:00, 16.76batch/s]\n"
     ]
    },
    {
     "name": "stdout",
     "output_type": "stream",
     "text": [
      "epoch 2, validation loss: 0.7142502069473267, epochs without improvement: 1/10\n"
     ]
    },
    {
     "name": "stderr",
     "output_type": "stream",
     "text": [
      "epoch 3/20:   0%|          | 0/92 [00:00<?, ?batch/s]/home/ec2-user/miniconda3/envs/shlomi-yndpd/lib/python3.10/site-packages/torch/nn/modules/module.py:1827: FutureWarning: Using a non-full backward hook when the forward contains multiple autograd Nodes is deprecated and will be removed in future versions. This hook will be missing some grad_input. Please use register_full_backward_hook to get the documented behavior.\n",
      "  self._maybe_warn_non_full_backward_hook(args, result, grad_fn)\n",
      "epoch 3/20 loss: 0.6828: 100%|██████████| 92/92 [00:05<00:00, 16.78batch/s]\n"
     ]
    },
    {
     "name": "stdout",
     "output_type": "stream",
     "text": [
      "val loss - new best: 0.700144350528717\n",
      "val accuracy - new best: 0.5318985395849347\n",
      "val AUC - new best: 0.5469987736568227\n",
      "epoch 3, validation loss: 0.700144350528717, epochs without improvement: 0/10\n"
     ]
    },
    {
     "name": "stderr",
     "output_type": "stream",
     "text": [
      "epoch 4/20:   0%|          | 0/92 [00:00<?, ?batch/s]/home/ec2-user/miniconda3/envs/shlomi-yndpd/lib/python3.10/site-packages/torch/nn/modules/module.py:1827: FutureWarning: Using a non-full backward hook when the forward contains multiple autograd Nodes is deprecated and will be removed in future versions. This hook will be missing some grad_input. Please use register_full_backward_hook to get the documented behavior.\n",
      "  self._maybe_warn_non_full_backward_hook(args, result, grad_fn)\n",
      "epoch 4/20 loss: 0.6710: 100%|██████████| 92/92 [00:05<00:00, 16.78batch/s]\n"
     ]
    },
    {
     "name": "stdout",
     "output_type": "stream",
     "text": [
      "epoch 4, validation loss: 0.702039897441864, epochs without improvement: 1/10\n"
     ]
    },
    {
     "name": "stderr",
     "output_type": "stream",
     "text": [
      "epoch 5/20:   0%|          | 0/92 [00:00<?, ?batch/s]/home/ec2-user/miniconda3/envs/shlomi-yndpd/lib/python3.10/site-packages/torch/nn/modules/module.py:1827: FutureWarning: Using a non-full backward hook when the forward contains multiple autograd Nodes is deprecated and will be removed in future versions. This hook will be missing some grad_input. Please use register_full_backward_hook to get the documented behavior.\n",
      "  self._maybe_warn_non_full_backward_hook(args, result, grad_fn)\n",
      "epoch 5/20 loss: 0.7091: 100%|██████████| 92/92 [00:05<00:00, 16.69batch/s]\n"
     ]
    },
    {
     "name": "stdout",
     "output_type": "stream",
     "text": [
      "val loss - new best: 0.6839051246643066\n",
      "val accuracy - new best: 0.579554189085319\n",
      "val AUC - new best: 0.6192512204245326\n",
      "epoch 5, validation loss: 0.6839051246643066, epochs without improvement: 0/10\n",
      "reached 5.\n",
      "epoch 5, val loss: 0.6839051246643066, epochs without improvement: 0/10\n",
      "val accuracy - new best: 0.579554189085319\n",
      "val auc - new best: 0.6192512204245326\n"
     ]
    },
    {
     "name": "stderr",
     "output_type": "stream",
     "text": [
      "epoch 6/20:   0%|          | 0/92 [00:00<?, ?batch/s]/home/ec2-user/miniconda3/envs/shlomi-yndpd/lib/python3.10/site-packages/torch/nn/modules/module.py:1827: FutureWarning: Using a non-full backward hook when the forward contains multiple autograd Nodes is deprecated and will be removed in future versions. This hook will be missing some grad_input. Please use register_full_backward_hook to get the documented behavior.\n",
      "  self._maybe_warn_non_full_backward_hook(args, result, grad_fn)\n",
      "epoch 6/20 loss: 0.6602: 100%|██████████| 92/92 [00:05<00:00, 16.66batch/s]\n"
     ]
    },
    {
     "name": "stdout",
     "output_type": "stream",
     "text": [
      "val loss - new best: 0.6824221014976501\n",
      "val accuracy - new best: 0.6133743274404304\n",
      "val AUC - new best: 0.6613943379877556\n",
      "epoch 6, validation loss: 0.6824221014976501, epochs without improvement: 0/10\n"
     ]
    },
    {
     "name": "stderr",
     "output_type": "stream",
     "text": [
      "epoch 7/20:   0%|          | 0/92 [00:00<?, ?batch/s]/home/ec2-user/miniconda3/envs/shlomi-yndpd/lib/python3.10/site-packages/torch/nn/modules/module.py:1827: FutureWarning: Using a non-full backward hook when the forward contains multiple autograd Nodes is deprecated and will be removed in future versions. This hook will be missing some grad_input. Please use register_full_backward_hook to get the documented behavior.\n",
      "  self._maybe_warn_non_full_backward_hook(args, result, grad_fn)\n",
      "epoch 7/20 loss: 0.8475: 100%|██████████| 92/92 [00:05<00:00, 16.76batch/s]\n"
     ]
    },
    {
     "name": "stdout",
     "output_type": "stream",
     "text": [
      "epoch 7, validation loss: 0.76437908411026, epochs without improvement: 1/10\n"
     ]
    },
    {
     "name": "stderr",
     "output_type": "stream",
     "text": [
      "epoch 8/20:   0%|          | 0/92 [00:00<?, ?batch/s]/home/ec2-user/miniconda3/envs/shlomi-yndpd/lib/python3.10/site-packages/torch/nn/modules/module.py:1827: FutureWarning: Using a non-full backward hook when the forward contains multiple autograd Nodes is deprecated and will be removed in future versions. This hook will be missing some grad_input. Please use register_full_backward_hook to get the documented behavior.\n",
      "  self._maybe_warn_non_full_backward_hook(args, result, grad_fn)\n",
      "epoch 8/20 loss: 0.9171: 100%|██████████| 92/92 [00:05<00:00, 16.77batch/s]\n"
     ]
    },
    {
     "name": "stdout",
     "output_type": "stream",
     "text": [
      "epoch 8, validation loss: 0.8422108292579651, epochs without improvement: 2/10\n"
     ]
    },
    {
     "name": "stderr",
     "output_type": "stream",
     "text": [
      "epoch 9/20:   0%|          | 0/92 [00:00<?, ?batch/s]/home/ec2-user/miniconda3/envs/shlomi-yndpd/lib/python3.10/site-packages/torch/nn/modules/module.py:1827: FutureWarning: Using a non-full backward hook when the forward contains multiple autograd Nodes is deprecated and will be removed in future versions. This hook will be missing some grad_input. Please use register_full_backward_hook to get the documented behavior.\n",
      "  self._maybe_warn_non_full_backward_hook(args, result, grad_fn)\n",
      "epoch 9/20 loss: 1.0259: 100%|██████████| 92/92 [00:05<00:00, 16.78batch/s]\n"
     ]
    },
    {
     "name": "stdout",
     "output_type": "stream",
     "text": [
      "epoch 9, validation loss: 0.9364686608314514, epochs without improvement: 3/10\n",
      "reached 9.\n",
      "epoch 9, val loss: 0.9364686608314514, epochs without improvement: 3/10\n",
      "val accuracy - new best: 0.6133743274404304\n",
      "val auc - new best: 0.6613943379877556\n"
     ]
    },
    {
     "name": "stderr",
     "output_type": "stream",
     "text": [
      "epoch 10/20:   0%|          | 0/92 [00:00<?, ?batch/s]/home/ec2-user/miniconda3/envs/shlomi-yndpd/lib/python3.10/site-packages/torch/nn/modules/module.py:1827: FutureWarning: Using a non-full backward hook when the forward contains multiple autograd Nodes is deprecated and will be removed in future versions. This hook will be missing some grad_input. Please use register_full_backward_hook to get the documented behavior.\n",
      "  self._maybe_warn_non_full_backward_hook(args, result, grad_fn)\n",
      "epoch 10/20 loss: 0.9229: 100%|██████████| 92/92 [00:05<00:00, 16.79batch/s]\n"
     ]
    },
    {
     "name": "stdout",
     "output_type": "stream",
     "text": [
      "epoch 10, validation loss: 0.9742581844329834, epochs without improvement: 4/10\n"
     ]
    },
    {
     "name": "stderr",
     "output_type": "stream",
     "text": [
      "epoch 11/20:   0%|          | 0/92 [00:00<?, ?batch/s]/home/ec2-user/miniconda3/envs/shlomi-yndpd/lib/python3.10/site-packages/torch/nn/modules/module.py:1827: FutureWarning: Using a non-full backward hook when the forward contains multiple autograd Nodes is deprecated and will be removed in future versions. This hook will be missing some grad_input. Please use register_full_backward_hook to get the documented behavior.\n",
      "  self._maybe_warn_non_full_backward_hook(args, result, grad_fn)\n",
      "epoch 11/20 loss: 0.8237: 100%|██████████| 92/92 [00:05<00:00, 16.79batch/s]\n"
     ]
    },
    {
     "name": "stdout",
     "output_type": "stream",
     "text": [
      "epoch 11, validation loss: 0.9746822714805603, epochs without improvement: 5/10\n"
     ]
    },
    {
     "name": "stderr",
     "output_type": "stream",
     "text": [
      "epoch 12/20:   0%|          | 0/92 [00:00<?, ?batch/s]/home/ec2-user/miniconda3/envs/shlomi-yndpd/lib/python3.10/site-packages/torch/nn/modules/module.py:1827: FutureWarning: Using a non-full backward hook when the forward contains multiple autograd Nodes is deprecated and will be removed in future versions. This hook will be missing some grad_input. Please use register_full_backward_hook to get the documented behavior.\n",
      "  self._maybe_warn_non_full_backward_hook(args, result, grad_fn)\n",
      "epoch 12/20 loss: 0.8402: 100%|██████████| 92/92 [00:05<00:00, 16.79batch/s]\n"
     ]
    },
    {
     "name": "stdout",
     "output_type": "stream",
     "text": [
      "epoch 12, validation loss: 0.9871757626533508, epochs without improvement: 6/10\n"
     ]
    },
    {
     "name": "stderr",
     "output_type": "stream",
     "text": [
      "epoch 13/20:   0%|          | 0/92 [00:00<?, ?batch/s]/home/ec2-user/miniconda3/envs/shlomi-yndpd/lib/python3.10/site-packages/torch/nn/modules/module.py:1827: FutureWarning: Using a non-full backward hook when the forward contains multiple autograd Nodes is deprecated and will be removed in future versions. This hook will be missing some grad_input. Please use register_full_backward_hook to get the documented behavior.\n",
      "  self._maybe_warn_non_full_backward_hook(args, result, grad_fn)\n",
      "epoch 13/20 loss: 0.7875: 100%|██████████| 92/92 [00:05<00:00, 16.80batch/s]\n"
     ]
    },
    {
     "name": "stdout",
     "output_type": "stream",
     "text": [
      "epoch 13, validation loss: 0.9558269381523132, epochs without improvement: 7/10\n",
      "reached 13.\n",
      "epoch 13, val loss: 0.9558269381523132, epochs without improvement: 7/10\n",
      "val accuracy - new best: 0.6133743274404304\n",
      "val auc - new best: 0.6613943379877556\n"
     ]
    },
    {
     "name": "stderr",
     "output_type": "stream",
     "text": [
      "epoch 14/20:   0%|          | 0/92 [00:00<?, ?batch/s]/home/ec2-user/miniconda3/envs/shlomi-yndpd/lib/python3.10/site-packages/torch/nn/modules/module.py:1827: FutureWarning: Using a non-full backward hook when the forward contains multiple autograd Nodes is deprecated and will be removed in future versions. This hook will be missing some grad_input. Please use register_full_backward_hook to get the documented behavior.\n",
      "  self._maybe_warn_non_full_backward_hook(args, result, grad_fn)\n",
      "epoch 14/20 loss: 0.8751: 100%|██████████| 92/92 [00:05<00:00, 16.78batch/s]\n"
     ]
    },
    {
     "name": "stdout",
     "output_type": "stream",
     "text": [
      "epoch 14, validation loss: 0.9662612080574036, epochs without improvement: 8/10\n"
     ]
    },
    {
     "name": "stderr",
     "output_type": "stream",
     "text": [
      "epoch 15/20:   0%|          | 0/92 [00:00<?, ?batch/s]/home/ec2-user/miniconda3/envs/shlomi-yndpd/lib/python3.10/site-packages/torch/nn/modules/module.py:1827: FutureWarning: Using a non-full backward hook when the forward contains multiple autograd Nodes is deprecated and will be removed in future versions. This hook will be missing some grad_input. Please use register_full_backward_hook to get the documented behavior.\n",
      "  self._maybe_warn_non_full_backward_hook(args, result, grad_fn)\n",
      "epoch 15/20 loss: 1.0199: 100%|██████████| 92/92 [00:05<00:00, 16.80batch/s]\n"
     ]
    },
    {
     "name": "stdout",
     "output_type": "stream",
     "text": [
      "epoch 15, validation loss: 0.9597510695457458, epochs without improvement: 9/10\n"
     ]
    },
    {
     "name": "stderr",
     "output_type": "stream",
     "text": [
      "epoch 16/20:   0%|          | 0/92 [00:00<?, ?batch/s]/home/ec2-user/miniconda3/envs/shlomi-yndpd/lib/python3.10/site-packages/torch/nn/modules/module.py:1827: FutureWarning: Using a non-full backward hook when the forward contains multiple autograd Nodes is deprecated and will be removed in future versions. This hook will be missing some grad_input. Please use register_full_backward_hook to get the documented behavior.\n",
      "  self._maybe_warn_non_full_backward_hook(args, result, grad_fn)\n",
      "epoch 16/20 loss: 1.0232: 100%|██████████| 92/92 [00:05<00:00, 16.80batch/s]"
     ]
    },
    {
     "name": "stdout",
     "output_type": "stream",
     "text": [
      "epoch 16, validation loss: 0.9574492573738098, epochs without improvement: 10/10\n",
      "stopping early at epoch 16. no improvement in validation loss for 10 consecutive epochs.\n",
      "epoch 16, validation loss: 0.9574492573738098, epochs without improvement: 10/10\n",
      "val accuracy - new best: 0.6133743274404304\n",
      "val auc - new best: 0.6613943379877556\n"
     ]
    },
    {
     "name": "stderr",
     "output_type": "stream",
     "text": [
      "\n"
     ]
    }
   ],
   "source": [
    "classifier = FTTransformerModel(\n",
    "    dim = 32,\n",
    "    dim_out = 2,\n",
    "    depth = 6,\n",
    "    heads = 8,\n",
    "    attn_dropout = 0.1,\n",
    "    ff_dropout = 0.1,\n",
    "    batch_size=128,\n",
    "    num_epochs=20,\n",
    "    lr=3e-4,\n",
    "    load_best_model_when_trained=True,\n",
    "    verbose=True,\n",
    "    dp=True, # turn on privacy!\n",
    "    epsilon=3.0) # turn on privacy!\n",
    "\n",
    "classifier.fit(X_cat_train, X_cont_train, y_train.flatten(), cat_cardinalities, X_cont_train.shape[1], use_class_weights=True)"
   ]
  },
  {
   "cell_type": "code",
   "execution_count": 27,
   "metadata": {},
   "outputs": [
    {
     "name": "stdout",
     "output_type": "stream",
     "text": [
      "\n",
      "AUC: 0.6912\n",
      "Optimal Threshold: 0.0638\n",
      "              precision    recall  f1-score   support\n",
      "\n",
      "         0.0       0.72      0.49      0.58      1640\n",
      "         1.0       0.61      0.80      0.69      1612\n",
      "\n",
      "    accuracy                           0.65      3252\n",
      "   macro avg       0.66      0.65      0.64      3252\n",
      "weighted avg       0.66      0.65      0.64      3252\n",
      "\n",
      "\n"
     ]
    }
   ],
   "source": [
    "print_model_performance(classifier, X_cat_valid, X_cont_valid, y_valid)"
   ]
  },
  {
   "cell_type": "markdown",
   "metadata": {},
   "source": [
    "### With Pretraining, Private"
   ]
  },
  {
   "cell_type": "code",
   "execution_count": 28,
   "metadata": {},
   "outputs": [
    {
     "name": "stdout",
     "output_type": "stream",
     "text": [
      "X_cat_pre torch.Size([13969, 6])\n",
      "X_cont_pre torch.Size([13969, 0])\n",
      "y_pre torch.Size([13969])\n"
     ]
    },
    {
     "name": "stderr",
     "output_type": "stream",
     "text": [
      "pretraining Epoch 1/3 loss: 0.0499: 100%|██████████| 3143/3143 [00:41<00:00, 75.92batch/s]\n"
     ]
    },
    {
     "name": "stdout",
     "output_type": "stream",
     "text": [
      "pretraining val loss - new best: 0.106063112616539\n",
      "pretraining epoch 1, validation Loss: 0.106063112616539, epochs without improvement: 0/10\n"
     ]
    },
    {
     "name": "stderr",
     "output_type": "stream",
     "text": [
      "pretraining Epoch 2/3 loss: 0.0423: 100%|██████████| 3143/3143 [00:41<00:00, 75.94batch/s]\n"
     ]
    },
    {
     "name": "stdout",
     "output_type": "stream",
     "text": [
      "pretraining val loss - new best: 0.09852214902639389\n",
      "pretraining epoch 2, validation Loss: 0.09852214902639389, epochs without improvement: 0/10\n"
     ]
    },
    {
     "name": "stderr",
     "output_type": "stream",
     "text": [
      "pretraining Epoch 3/3 loss: 0.0392: 100%|██████████| 3143/3143 [00:41<00:00, 76.03batch/s]\n",
      "/home/ec2-user/miniconda3/envs/shlomi-yndpd/lib/python3.10/site-packages/opacus/privacy_engine.py:95: UserWarning: Secure RNG turned off. This is perfectly fine for experimentation as it allows for much faster training performance, but remember to turn it on and retrain one last time before production with ``secure_mode`` turned on.\n",
      "  warnings.warn(\n",
      "/home/ec2-user/miniconda3/envs/shlomi-yndpd/lib/python3.10/site-packages/opacus/accountants/analysis/rdp.py:332: UserWarning: Optimal order is the largest alpha. Please consider expanding the range of alphas to get a tighter privacy bound.\n",
      "  warnings.warn(\n"
     ]
    },
    {
     "name": "stdout",
     "output_type": "stream",
     "text": [
      "pretraining val loss - new best: 0.09302705526351929\n",
      "pretraining epoch 3, validation Loss: 0.09302705526351929, epochs without improvement: 0/10\n"
     ]
    },
    {
     "name": "stderr",
     "output_type": "stream",
     "text": [
      "epoch 1/20:   0%|          | 0/92 [00:00<?, ?batch/s]/home/ec2-user/miniconda3/envs/shlomi-yndpd/lib/python3.10/site-packages/torch/nn/modules/module.py:1827: FutureWarning: Using a non-full backward hook when the forward contains multiple autograd Nodes is deprecated and will be removed in future versions. This hook will be missing some grad_input. Please use register_full_backward_hook to get the documented behavior.\n",
      "  self._maybe_warn_non_full_backward_hook(args, result, grad_fn)\n",
      "epoch 1/20 loss: 1.7484:  38%|███▊      | 35/92 [00:02<00:03, 14.74batch/s]\n"
     ]
    },
    {
     "ename": "KeyboardInterrupt",
     "evalue": "",
     "output_type": "error",
     "traceback": [
      "\u001b[0;31m---------------------------------------------------------------------------\u001b[0m",
      "\u001b[0;31mKeyboardInterrupt\u001b[0m                         Traceback (most recent call last)",
      "Cell \u001b[0;32mIn[28], line 27\u001b[0m\n\u001b[1;32m      1\u001b[0m classifier \u001b[38;5;241m=\u001b[39m FTTransformerModel(\n\u001b[1;32m      2\u001b[0m     dim \u001b[38;5;241m=\u001b[39m \u001b[38;5;241m32\u001b[39m,\n\u001b[1;32m      3\u001b[0m     dim_out \u001b[38;5;241m=\u001b[39m \u001b[38;5;241m2\u001b[39m,\n\u001b[0;32m   (...)\u001b[0m\n\u001b[1;32m     24\u001b[0m     }\n\u001b[1;32m     25\u001b[0m )\n\u001b[0;32m---> 27\u001b[0m \u001b[43mclassifier\u001b[49m\u001b[38;5;241;43m.\u001b[39;49m\u001b[43mfit\u001b[49m\u001b[43m(\u001b[49m\u001b[43mX_cat_train\u001b[49m\u001b[43m,\u001b[49m\u001b[43m \u001b[49m\u001b[43mX_cont_train\u001b[49m\u001b[43m,\u001b[49m\u001b[43m \u001b[49m\u001b[43my_train\u001b[49m\u001b[38;5;241;43m.\u001b[39;49m\u001b[43mflatten\u001b[49m\u001b[43m(\u001b[49m\u001b[43m)\u001b[49m\u001b[43m,\u001b[49m\u001b[43m \u001b[49m\u001b[43mcat_cardinalities\u001b[49m\u001b[43m,\u001b[49m\u001b[43m \u001b[49m\u001b[43mX_cont_train\u001b[49m\u001b[38;5;241;43m.\u001b[39;49m\u001b[43mshape\u001b[49m\u001b[43m[\u001b[49m\u001b[38;5;241;43m1\u001b[39;49m\u001b[43m]\u001b[49m\u001b[43m)\u001b[49m\n",
      "File \u001b[0;32m~/lucas/clone1/YDNPD/ydnpd/pretraining/ft_transformer.py:564\u001b[0m, in \u001b[0;36mFTTransformerModel.fit\u001b[0;34m(self, X_cat_train, X_cont_train, y_train, categories, num_continuous, use_class_weights, focal_class_weights)\u001b[0m\n\u001b[1;32m    561\u001b[0m y_batch \u001b[38;5;241m=\u001b[39m y_batch\u001b[38;5;241m.\u001b[39mtype(torch\u001b[38;5;241m.\u001b[39mLongTensor)\u001b[38;5;241m.\u001b[39mto(\u001b[38;5;28mself\u001b[39m\u001b[38;5;241m.\u001b[39mdevice)\n\u001b[1;32m    563\u001b[0m loss \u001b[38;5;241m=\u001b[39m \u001b[38;5;28mself\u001b[39m\u001b[38;5;241m.\u001b[39mcross_entropy_loss(output, y_batch, class_weights)\n\u001b[0;32m--> 564\u001b[0m \u001b[43mloss\u001b[49m\u001b[38;5;241;43m.\u001b[39;49m\u001b[43mbackward\u001b[49m\u001b[43m(\u001b[49m\u001b[43m)\u001b[49m\n\u001b[1;32m    566\u001b[0m optimizer\u001b[38;5;241m.\u001b[39mstep()\n\u001b[1;32m    568\u001b[0m \u001b[38;5;28;01mif\u001b[39;00m \u001b[38;5;28mself\u001b[39m\u001b[38;5;241m.\u001b[39mverbose:\n",
      "File \u001b[0;32m~/miniconda3/envs/shlomi-yndpd/lib/python3.10/site-packages/torch/_tensor.py:581\u001b[0m, in \u001b[0;36mTensor.backward\u001b[0;34m(self, gradient, retain_graph, create_graph, inputs)\u001b[0m\n\u001b[1;32m    571\u001b[0m \u001b[38;5;28;01mif\u001b[39;00m has_torch_function_unary(\u001b[38;5;28mself\u001b[39m):\n\u001b[1;32m    572\u001b[0m     \u001b[38;5;28;01mreturn\u001b[39;00m handle_torch_function(\n\u001b[1;32m    573\u001b[0m         Tensor\u001b[38;5;241m.\u001b[39mbackward,\n\u001b[1;32m    574\u001b[0m         (\u001b[38;5;28mself\u001b[39m,),\n\u001b[0;32m   (...)\u001b[0m\n\u001b[1;32m    579\u001b[0m         inputs\u001b[38;5;241m=\u001b[39minputs,\n\u001b[1;32m    580\u001b[0m     )\n\u001b[0;32m--> 581\u001b[0m \u001b[43mtorch\u001b[49m\u001b[38;5;241;43m.\u001b[39;49m\u001b[43mautograd\u001b[49m\u001b[38;5;241;43m.\u001b[39;49m\u001b[43mbackward\u001b[49m\u001b[43m(\u001b[49m\n\u001b[1;32m    582\u001b[0m \u001b[43m    \u001b[49m\u001b[38;5;28;43mself\u001b[39;49m\u001b[43m,\u001b[49m\u001b[43m \u001b[49m\u001b[43mgradient\u001b[49m\u001b[43m,\u001b[49m\u001b[43m \u001b[49m\u001b[43mretain_graph\u001b[49m\u001b[43m,\u001b[49m\u001b[43m \u001b[49m\u001b[43mcreate_graph\u001b[49m\u001b[43m,\u001b[49m\u001b[43m \u001b[49m\u001b[43minputs\u001b[49m\u001b[38;5;241;43m=\u001b[39;49m\u001b[43minputs\u001b[49m\n\u001b[1;32m    583\u001b[0m \u001b[43m\u001b[49m\u001b[43m)\u001b[49m\n",
      "File \u001b[0;32m~/miniconda3/envs/shlomi-yndpd/lib/python3.10/site-packages/torch/autograd/__init__.py:347\u001b[0m, in \u001b[0;36mbackward\u001b[0;34m(tensors, grad_tensors, retain_graph, create_graph, grad_variables, inputs)\u001b[0m\n\u001b[1;32m    342\u001b[0m     retain_graph \u001b[38;5;241m=\u001b[39m create_graph\n\u001b[1;32m    344\u001b[0m \u001b[38;5;66;03m# The reason we repeat the same comment below is that\u001b[39;00m\n\u001b[1;32m    345\u001b[0m \u001b[38;5;66;03m# some Python versions print out the first line of a multi-line function\u001b[39;00m\n\u001b[1;32m    346\u001b[0m \u001b[38;5;66;03m# calls in the traceback and some print out the last line\u001b[39;00m\n\u001b[0;32m--> 347\u001b[0m \u001b[43m_engine_run_backward\u001b[49m\u001b[43m(\u001b[49m\n\u001b[1;32m    348\u001b[0m \u001b[43m    \u001b[49m\u001b[43mtensors\u001b[49m\u001b[43m,\u001b[49m\n\u001b[1;32m    349\u001b[0m \u001b[43m    \u001b[49m\u001b[43mgrad_tensors_\u001b[49m\u001b[43m,\u001b[49m\n\u001b[1;32m    350\u001b[0m \u001b[43m    \u001b[49m\u001b[43mretain_graph\u001b[49m\u001b[43m,\u001b[49m\n\u001b[1;32m    351\u001b[0m \u001b[43m    \u001b[49m\u001b[43mcreate_graph\u001b[49m\u001b[43m,\u001b[49m\n\u001b[1;32m    352\u001b[0m \u001b[43m    \u001b[49m\u001b[43minputs\u001b[49m\u001b[43m,\u001b[49m\n\u001b[1;32m    353\u001b[0m \u001b[43m    \u001b[49m\u001b[43mallow_unreachable\u001b[49m\u001b[38;5;241;43m=\u001b[39;49m\u001b[38;5;28;43;01mTrue\u001b[39;49;00m\u001b[43m,\u001b[49m\n\u001b[1;32m    354\u001b[0m \u001b[43m    \u001b[49m\u001b[43maccumulate_grad\u001b[49m\u001b[38;5;241;43m=\u001b[39;49m\u001b[38;5;28;43;01mTrue\u001b[39;49;00m\u001b[43m,\u001b[49m\n\u001b[1;32m    355\u001b[0m \u001b[43m\u001b[49m\u001b[43m)\u001b[49m\n",
      "File \u001b[0;32m~/miniconda3/envs/shlomi-yndpd/lib/python3.10/site-packages/torch/autograd/graph.py:825\u001b[0m, in \u001b[0;36m_engine_run_backward\u001b[0;34m(t_outputs, *args, **kwargs)\u001b[0m\n\u001b[1;32m    823\u001b[0m     unregister_hooks \u001b[38;5;241m=\u001b[39m _register_logging_hooks_on_whole_graph(t_outputs)\n\u001b[1;32m    824\u001b[0m \u001b[38;5;28;01mtry\u001b[39;00m:\n\u001b[0;32m--> 825\u001b[0m     \u001b[38;5;28;01mreturn\u001b[39;00m \u001b[43mVariable\u001b[49m\u001b[38;5;241;43m.\u001b[39;49m\u001b[43m_execution_engine\u001b[49m\u001b[38;5;241;43m.\u001b[39;49m\u001b[43mrun_backward\u001b[49m\u001b[43m(\u001b[49m\u001b[43m  \u001b[49m\u001b[38;5;66;43;03m# Calls into the C++ engine to run the backward pass\u001b[39;49;00m\n\u001b[1;32m    826\u001b[0m \u001b[43m        \u001b[49m\u001b[43mt_outputs\u001b[49m\u001b[43m,\u001b[49m\u001b[43m \u001b[49m\u001b[38;5;241;43m*\u001b[39;49m\u001b[43margs\u001b[49m\u001b[43m,\u001b[49m\u001b[43m \u001b[49m\u001b[38;5;241;43m*\u001b[39;49m\u001b[38;5;241;43m*\u001b[39;49m\u001b[43mkwargs\u001b[49m\n\u001b[1;32m    827\u001b[0m \u001b[43m    \u001b[49m\u001b[43m)\u001b[49m  \u001b[38;5;66;03m# Calls into the C++ engine to run the backward pass\u001b[39;00m\n\u001b[1;32m    828\u001b[0m \u001b[38;5;28;01mfinally\u001b[39;00m:\n\u001b[1;32m    829\u001b[0m     \u001b[38;5;28;01mif\u001b[39;00m attach_logging_hooks:\n",
      "\u001b[0;31mKeyboardInterrupt\u001b[0m: "
     ]
    }
   ],
   "source": [
    "EPOCHS = [1,3,9]\n",
    "BATCH_SIZES = [4, 32, 128]\n",
    "LRS = [3e-4, 3e-5]\n",
    "\n",
    "classifier = FTTransformerModel(\n",
    "    dim = 32,\n",
    "    dim_out = 2,\n",
    "    depth = 6,\n",
    "    heads = 8,\n",
    "    attn_dropout = 0.1,\n",
    "    ff_dropout = 0.1,\n",
    "    batch_size=128,\n",
    "    num_epochs=20,\n",
    "    lr=3e-4,\n",
    "    load_best_model_when_trained=True,\n",
    "    verbose=True,\n",
    "    epsilon=3.0,\n",
    "    partial_dp=True,\n",
    "    partial_pretrain_config={\n",
    "        'X_cat_pre': X_cat_train_llm,\n",
    "        'X_cont_pre': X_cont_train_llm,\n",
    "        'y_pre': y_train_llm,\n",
    "        'categories': cat_cardinalities,\n",
    "        'num_continuous': X_cont_train_llm.shape[1],\n",
    "        'pre_epochs': 3,\n",
    "        'pre_batch_size': 4,\n",
    "        'pre_lr': 3e-4,\n",
    "    }\n",
    ")\n",
    "\n",
    "\n",
    "classifier.fit(X_cat_train, X_cont_train, y_train.flatten(), cat_cardinalities, X_cont_train.shape[1])"
   ]
  },
  {
   "cell_type": "code",
   "execution_count": null,
   "metadata": {},
   "outputs": [
    {
     "name": "stdout",
     "output_type": "stream",
     "text": [
      "\n",
      "AUC: 0.6827\n",
      "Optimal Threshold: 0.0635\n",
      "              precision    recall  f1-score   support\n",
      "\n",
      "         0.0       0.70      0.49      0.58      1640\n",
      "         1.0       0.60      0.79      0.68      1612\n",
      "\n",
      "    accuracy                           0.64      3252\n",
      "   macro avg       0.65      0.64      0.63      3252\n",
      "weighted avg       0.65      0.64      0.63      3252\n",
      "\n",
      "\n"
     ]
    }
   ],
   "source": [
    "print_model_performance(classifier, X_cat_valid, X_cont_valid, y_valid)"
   ]
  },
  {
   "cell_type": "code",
   "execution_count": null,
   "metadata": {},
   "outputs": [],
   "source": []
  }
 ],
 "metadata": {
  "kernelspec": {
   "display_name": "shlomi-yndpd",
   "language": "python",
   "name": "shlomi-yndpd"
  },
  "language_info": {
   "codemirror_mode": {
    "name": "ipython",
    "version": 3
   },
   "file_extension": ".py",
   "mimetype": "text/x-python",
   "name": "python",
   "nbconvert_exporter": "python",
   "pygments_lexer": "ipython3",
   "version": "3.10.16"
  }
 },
 "nbformat": 4,
 "nbformat_minor": 2
}
