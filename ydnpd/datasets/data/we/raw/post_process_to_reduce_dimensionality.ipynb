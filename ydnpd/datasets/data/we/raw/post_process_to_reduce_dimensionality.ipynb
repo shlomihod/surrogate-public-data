{
 "cells": [
  {
   "cell_type": "markdown",
   "metadata": {},
   "source": [
    "### Reducing dim\n",
    "The following is based on the classification notebook.\n",
    "\n",
    "We reduce dim, and binarize certain features."
   ]
  },
  {
   "cell_type": "code",
   "execution_count": 29,
   "metadata": {},
   "outputs": [],
   "source": [
    "subset_of_features = [\n",
    "        'how_long_have_you_worked_for_your_current_employer',\n",
    "        'which_of_the_following_groups_best_describes_your_employment_level',\n",
    "        \"approximately_what_is_the_size_of_your_employer's_workforce\",\n",
    "        'i_pursue_job_opportunities_even_if_i_do_not_fulfill_all_of_the_requirements_on_a_job_description',\n",
    "        'which_of_the_following_groups_best_describes_the_organization_that_you_work_for',\n",
    "        'leadership_opportunities',\n",
    "        'i_let_my_manager_know_what_i_want_with_the_expectation_that_it_will_generate_growth_opportunities',\n",
    "        'i_avoid_discussions_about_salary_and_incentives',\n",
    "        'what_country_do_you_currently_live_in',\n",
    "        'i_trust_that_i_am_compensated_appropriately_for_my_accomplishments',\n",
    "        'family_commitments',\n",
    "        'yes_one_or_more_children']"
   ]
  },
  {
   "cell_type": "code",
   "execution_count": 30,
   "metadata": {},
   "outputs": [
    {
     "name": "stdout",
     "output_type": "stream",
     "text": [
      "['how_long_have_you_worked_for_your_current_employer', 'which_of_the_following_groups_best_describes_your_employment_level', 'which_of_the_following_groups_best_describes_the_organization_that_you_work_for', 'flexible_working_arrangements', 'culturalreligious_practices', \"approximately_what_is_the_size_of_your_employer's_workforce\", 'i_believe_i_am_being_paid_fairly_for_the_work_that_i_do', 'family_commitments', 'yes_one_or_more_children', 'leadership_opportunities', 'black', 'white', 'asian', 'latinaeox', 'recognition_from_colleaguespeers', 'what_country_do_you_currently_live_in', 'is_your_first_language_the_primary_language_of_your_workplace_', 'socialize_with_peers_within_my_company', 'i_pursue_job_opportunities_even_if_i_do_not_fulfill_all_of_the_requirements_on_a_job_description', 'i_avoid_discussions_about_salary_and_incentives', 'i_advocate_for_myself_when_appropriate_so_that_my_manager_knows_what_i_want_and_expect', 'i_trust_that_i_am_compensated_appropriately_for_my_accomplishments', 'i_let_my_manager_know_what_i_want_with_the_expectation_that_it_will_generate_growth_opportunities']\n"
     ]
    }
   ],
   "source": [
    "import pandas as pd\n",
    "import numpy as np\n",
    "\n",
    "file_path = \"survey_2023.csv\"\n",
    "df = pd.read_csv(file_path)\n",
    "\n",
    "print(list(df.columns))"
   ]
  },
  {
   "cell_type": "code",
   "execution_count": 31,
   "metadata": {},
   "outputs": [
    {
     "name": "stdout",
     "output_type": "stream",
     "text": [
      "how_long_have_you_worked_for_your_current_employer: [1 0]\n",
      "which_of_the_following_groups_best_describes_your_employment_level: [2 4 1 3 5 0]\n",
      "which_of_the_following_groups_best_describes_the_organization_that_you_work_for: [8 5 7 4 1 9 6 2 3 0]\n",
      "flexible_working_arrangements: [1 0]\n",
      "culturalreligious_practices: [0 1]\n",
      "approximately_what_is_the_size_of_your_employer's_workforce: [5 4 3 0 6 2 7 1]\n",
      "i_believe_i_am_being_paid_fairly_for_the_work_that_i_do: [1 5 4 2 0 3]\n",
      "family_commitments: [1 0]\n",
      "yes_one_or_more_children: [0 1]\n",
      "leadership_opportunities: [1 4 2 3 0 5]\n",
      "black: [0 1]\n",
      "white: [1 0]\n",
      "asian: [0 1]\n",
      "latinaeox: [0 1]\n",
      "recognition_from_colleaguespeers: [5 4 1 2 3 0]\n",
      "what_country_do_you_currently_live_in: [10  9  4  1  2  3  7  6  5  8]\n",
      "is_your_first_language_the_primary_language_of_your_workplace_: [4 1 3 2 0]\n",
      "socialize_with_peers_within_my_company: [1 0]\n",
      "i_pursue_job_opportunities_even_if_i_do_not_fulfill_all_of_the_requirements_on_a_job_description: [4 5 2 3 1 0]\n",
      "i_avoid_discussions_about_salary_and_incentives: [1 2 4 3 5 0]\n",
      "i_advocate_for_myself_when_appropriate_so_that_my_manager_knows_what_i_want_and_expect: [4 5 2 1 3 0]\n",
      "i_trust_that_i_am_compensated_appropriately_for_my_accomplishments: [1 5 4 2 3 0]\n",
      "i_let_my_manager_know_what_i_want_with_the_expectation_that_it_will_generate_growth_opportunities: [5 2 4 1 3 0]\n",
      "cartesian product of all unique values: 41278242816000\n"
     ]
    }
   ],
   "source": [
    "# cartesian product of unique values in data\n",
    "all_unique_counts = []\n",
    "for col in df.columns:\n",
    "    print(f\"{col}: {df[col].unique()}\")\n",
    "    all_unique_counts.append(len(df[col].unique()))\n",
    "\n",
    "# cartesian product multiplies all these\n",
    "print(f\"cartesian product of all unique values: {np.prod(all_unique_counts)}\")\n"
   ]
  },
  {
   "cell_type": "code",
   "execution_count": 32,
   "metadata": {},
   "outputs": [
    {
     "data": {
      "text/plain": [
       "Index(['how_long_have_you_worked_for_your_current_employer',\n",
       "       'which_of_the_following_groups_best_describes_your_employment_level',\n",
       "       'approximately_what_is_the_size_of_your_employer's_workforce',\n",
       "       'i_pursue_job_opportunities_even_if_i_do_not_fulfill_all_of_the_requirements_on_a_job_description',\n",
       "       'which_of_the_following_groups_best_describes_the_organization_that_you_work_for',\n",
       "       'leadership_opportunities',\n",
       "       'i_let_my_manager_know_what_i_want_with_the_expectation_that_it_will_generate_growth_opportunities',\n",
       "       'i_avoid_discussions_about_salary_and_incentives',\n",
       "       'what_country_do_you_currently_live_in',\n",
       "       'i_trust_that_i_am_compensated_appropriately_for_my_accomplishments',\n",
       "       'family_commitments', 'yes_one_or_more_children'],\n",
       "      dtype='object')"
      ]
     },
     "execution_count": 32,
     "metadata": {},
     "output_type": "execute_result"
    }
   ],
   "source": [
    "df = df[subset_of_features]\n",
    "df.columns"
   ]
  },
  {
   "cell_type": "code",
   "execution_count": 33,
   "metadata": {},
   "outputs": [],
   "source": [
    "likert_agree_cols = [\n",
    "    \"i_pursue_job_opportunities_even_if_i_do_not_fulfill_all_of_the_requirements_on_a_job_description\",\n",
    "    \"i_avoid_discussions_about_salary_and_incentives\",\n",
    "    \"i_trust_that_i_am_compensated_appropriately_for_my_accomplishments\",\n",
    "    \"i_let_my_manager_know_what_i_want_with_the_expectation_that_it_will_generate_growth_opportunities\",\n",
    "]\n",
    "\n",
    "likert_satisfaction_cols = [\n",
    "    \"leadership_opportunities\"\n",
    "]\n",
    "\n",
    "def ternary_agree_scale(x):\n",
    "    \"\"\"\n",
    "    columns with:\n",
    "       1 = Strongly disagree\n",
    "       2 = Disagree\n",
    "       3 = Not applicable\n",
    "       4 = Agree\n",
    "       5 = Strongly agree\n",
    "\n",
    "    map to:\n",
    "       0 = Disagree (1 or 2)\n",
    "       1 = Agree (4 or 5)\n",
    "       2 = Not applicable or Missing (0 or 3)\n",
    "    \"\"\"\n",
    "    if x in [1, 2]:\n",
    "        return 1\n",
    "    elif x in [4, 5]:\n",
    "        return 2\n",
    "    else:\n",
    "        return 0\n",
    "\n",
    "def ternary_satisfaction_scale(x):\n",
    "    \"\"\"\n",
    "    columns with:\n",
    "       1 = Very dissatisfied\n",
    "       2 = Dissatisfied\n",
    "       3 = Not applicable\n",
    "       4 = Satisfied\n",
    "       5 = Very satisfied\n",
    "\n",
    "    map to:\n",
    "       0 = Dissatisfied (1 or 2)\n",
    "       1 = Satisfied (4 or 5)\n",
    "       2 = Not applicable or Missing (0 or 3)\n",
    "    \"\"\"\n",
    "    if x in [1, 2]:\n",
    "        return 1\n",
    "    elif x in [4, 5]:\n",
    "        return 2\n",
    "    else:\n",
    "        return 0\n",
    "\n",
    "df_transformed = df.copy()\n",
    "\n",
    "for col in likert_agree_cols:\n",
    "    df_transformed[col] = df_transformed[col].apply(ternary_agree_scale)\n",
    "\n",
    "for col in likert_satisfaction_cols:\n",
    "    df_transformed[col] = df_transformed[col].apply(ternary_satisfaction_scale)\n",
    "\n",
    "def ternary_workforce_size(x):\n",
    "    \"\"\"\n",
    "    maps the workforce size to:\n",
    "      0 -> Missing value (original code 0)\n",
    "      1 -> Less than 2000 employees (original codes 1,2,3,4,5)\n",
    "      2 -> More than 2000 employees (original codes 6,7)\n",
    "    \"\"\"\n",
    "    if x == 0:\n",
    "        return 0\n",
    "    elif x in [1, 2, 3, 4, 5]:\n",
    "        return 1\n",
    "    elif x in [6, 7]:\n",
    "        return 2\n",
    "    else:\n",
    "        return 0\n",
    "\n",
    "df_transformed[\"approximately_what_is_the_size_of_your_employer's_workforce\"] = df_transformed[\"approximately_what_is_the_size_of_your_employer's_workforce\"].apply(ternary_workforce_size)\n",
    "\n",
    "\n",
    "def ternary_employment_level(x):\n",
    "    \"\"\"\n",
    "    maps the employment level to:\n",
    "        0 -> Missing value or Not listed (codes 0, 5)\n",
    "        1 -> Entry-level or Intermediate (codes 1, 2)\n",
    "        2 -> Mid-level or Senior/exec-level (codes 3, 4)\n",
    "    \"\"\"\n",
    "    if x in [0, 5]:\n",
    "        return 0\n",
    "    elif x in [1, 2]:\n",
    "        return 1\n",
    "    elif x in [3, 4]:\n",
    "        return 2\n",
    "    else:\n",
    "        return 0\n",
    "\n",
    "df_transformed[\"which_of_the_following_groups_best_describes_your_employment_level\"] = df_transformed[\"which_of_the_following_groups_best_describes_your_employment_level\"].apply(ternary_employment_level)\n"
   ]
  },
  {
   "cell_type": "code",
   "execution_count": 34,
   "metadata": {},
   "outputs": [
    {
     "name": "stdout",
     "output_type": "stream",
     "text": [
      "how_long_have_you_worked_for_your_current_employer: [1 0]\n",
      "which_of_the_following_groups_best_describes_your_employment_level: [1 2 0]\n",
      "approximately_what_is_the_size_of_your_employer's_workforce: [1 0 2]\n",
      "i_pursue_job_opportunities_even_if_i_do_not_fulfill_all_of_the_requirements_on_a_job_description: [2 1 0]\n",
      "which_of_the_following_groups_best_describes_the_organization_that_you_work_for: [8 5 7 4 1 9 6 2 3 0]\n",
      "leadership_opportunities: [1 2 0]\n",
      "i_let_my_manager_know_what_i_want_with_the_expectation_that_it_will_generate_growth_opportunities: [2 1 0]\n",
      "i_avoid_discussions_about_salary_and_incentives: [1 2 0]\n",
      "what_country_do_you_currently_live_in: [10  9  4  1  2  3  7  6  5  8]\n",
      "i_trust_that_i_am_compensated_appropriately_for_my_accomplishments: [1 2 0]\n",
      "family_commitments: [1 0]\n",
      "yes_one_or_more_children: [0 1]\n",
      "cartesian product of all unique values: 1749600\n"
     ]
    }
   ],
   "source": [
    "# cartesian product of unique values in data\n",
    "all_unique_counts = []\n",
    "for col in df_transformed.columns:\n",
    "    print(f\"{col}: {df_transformed[col].unique()}\")\n",
    "    all_unique_counts.append(len(df_transformed[col].unique()))\n",
    "\n",
    "# cartesian product multiplies all these\n",
    "print(f\"cartesian product of all unique values: {np.prod(all_unique_counts)}\")"
   ]
  },
  {
   "cell_type": "code",
   "execution_count": 35,
   "metadata": {},
   "outputs": [],
   "source": [
    "df_transformed.to_csv(\"survey_2023_transformed.csv\", index=False)"
   ]
  },
  {
   "cell_type": "code",
   "execution_count": null,
   "metadata": {},
   "outputs": [],
   "source": []
  }
 ],
 "metadata": {
  "kernelspec": {
   "display_name": "ydnpd",
   "language": "python",
   "name": "python3"
  },
  "language_info": {
   "codemirror_mode": {
    "name": "ipython",
    "version": 3
   },
   "file_extension": ".py",
   "mimetype": "text/x-python",
   "name": "python",
   "nbconvert_exporter": "python",
   "pygments_lexer": "ipython3",
   "version": "3.10.14"
  }
 },
 "nbformat": 4,
 "nbformat_minor": 2
}
