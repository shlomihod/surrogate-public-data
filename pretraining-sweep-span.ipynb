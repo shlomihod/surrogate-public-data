{
 "cells": [
  {
   "cell_type": "code",
   "execution_count": null,
   "metadata": {},
   "outputs": [],
   "source": [
    "import wandb\n",
    "\n",
    "from ydnpd.pretraining.sweep import get_sweep_config\n",
    "from ydnpd import ALL_EXPERIMENTS\n",
    "from additional import ADDITIONAL_EXPERIMENTS"
   ]
  },
  {
   "cell_type": "code",
   "execution_count": null,
   "metadata": {},
   "outputs": [],
   "source": [
    "DATASET_FAMILY = \"acs\"\n",
    "\n",
    "core_public_dataaset_pointers = [name for name in ALL_EXPERIMENTS[DATASET_FAMILY].dev_names\n",
    "                                if name != ALL_EXPERIMENTS[DATASET_FAMILY].test_name]\n",
    "\n",
    "additional_public_dataaset_pointers = [x for x in ADDITIONAL_EXPERIMENTS[DATASET_FAMILY]]\n",
    "\n",
    "sweep_config = get_sweep_config(DATASET_FAMILY, \n",
    "                               core_public_dataaset_pointers\n",
    "                               + additional_public_dataaset_pointers\n",
    "                               )\n",
    "\n",
    "sweep_config\n"
   ]
  },
  {
   "cell_type": "code",
   "execution_count": null,
   "metadata": {},
   "outputs": [],
   "source": [
    "sweep_id = wandb.sweep(sweep_config, project=\"ydnpd-dp-ft\")"
   ]
  }
 ],
 "metadata": {
  "kernelspec": {
   "display_name": "ydnpd-ft",
   "language": "python",
   "name": "python3"
  },
  "language_info": {
   "codemirror_mode": {
    "name": "ipython",
    "version": 3
   },
   "file_extension": ".py",
   "mimetype": "text/x-python",
   "name": "python",
   "nbconvert_exporter": "python",
   "pygments_lexer": "ipython3",
   "version": "3.10.16"
  }
 },
 "nbformat": 4,
 "nbformat_minor": 2
}
