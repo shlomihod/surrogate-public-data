{
 "cells": [
  {
   "cell_type": "code",
   "execution_count": 1,
   "metadata": {},
   "outputs": [],
   "source": [
    "import itertools as it\n",
    "import os\n",
    "\n",
    "os.environ[\"PRIVBAYES_BIN\"] = \"./ydnpd/harness/synthesis/privbayes/linux_bin\"\n",
    "\n",
    "import ray\n",
    "import pandas as pd\n",
    "from matplotlib import pyplot as plt\n",
    "from IPython.display import display, Markdown\n",
    "\n",
    "import ydnpd\n",
    "from additional import ADDITIONAL_PATH"
   ]
  },
  {
   "cell_type": "code",
   "execution_count": 2,
   "metadata": {},
   "outputs": [],
   "source": [
    "ADDITIONAL_EXPERIMENTS = {}\n",
    "ADDITIONAL_DATASETS = sum(list(ADDITIONAL_EXPERIMENTS.values()), [])"
   ]
  },
  {
   "cell_type": "markdown",
   "metadata": {},
   "source": [
    "## Tasks"
   ]
  },
  {
   "cell_type": "code",
   "execution_count": null,
   "metadata": {},
   "outputs": [],
   "source": [
    "total_task_size = 0\n",
    "for idx, task in enumerate(ydnpd.span_utility_tasks(additional_datasets=ADDITIONAL_DATASETS), start=1):\n",
    "    print(f\"{idx:2} {task}\")\n",
    "    total_task_size += task.size()\n",
    "print(f\"\\nTotal task size: {total_task_size}\")"
   ]
  },
  {
   "cell_type": "markdown",
   "metadata": {},
   "source": [
    "## Execute Tasks"
   ]
  },
  {
   "cell_type": "code",
   "execution_count": null,
   "metadata": {},
   "outputs": [],
   "source": [
    "ydnpd.utils.get_compute_resources()"
   ]
  },
  {
   "cell_type": "code",
   "execution_count": null,
   "metadata": {},
   "outputs": [],
   "source": [
    "ray.init(num_cpus=24, num_gpus=4, ignore_reinit_error=True)"
   ]
  },
  {
   "cell_type": "code",
   "execution_count": null,
   "metadata": {},
   "outputs": [],
   "source": [
    "utility_tasks = ydnpd.span_utility_ray_tasks(additional_datasets=ADDITIONAL_DATASETS,\n",
    "                                             with_wandb=False)\n",
    "utility_tasks_results = ray.get(utility_tasks)\n",
    "utility_tasks_results = list(it.chain(*utility_tasks_results))"
   ]
  },
  {
   "cell_type": "markdown",
   "metadata": {},
   "source": [
    "## Utility-Related Tasks"
   ]
  },
  {
   "cell_type": "code",
   "execution_count": null,
   "metadata": {},
   "outputs": [],
   "source": [
    "for experiments_name, experiments in ydnpd.ALL_EXPERIMENTS.items():\n",
    "\n",
    "    if (additional_experiment_datasets := ADDITIONAL_EXPERIMENTS.get(experiments_name)):\n",
    "            additional_dataset_names = [dataset_name for dataset_name, _ in additional_experiment_datasets]\n",
    "            experiments = ydnpd.Experiments(experiments.test_name,\n",
    "                                    experiments.dev_names + additional_dataset_names)\n",
    "\n",
    "    display(Markdown(f\"## {experiments_name.upper()}\"))\n",
    "\n",
    "    datasets = {}\n",
    "    for name in experiments.dev_names:\n",
    "        try:\n",
    "                df = ydnpd.load_dataset(name)[0]\n",
    "        except ValueError:\n",
    "                df = ydnpd.load_dataset(name, ADDITIONAL_PATH)[0]\n",
    "        datasets[name] = df\n",
    "    g = ydnpd.plot_distribution_distances(datasets)\n",
    "    display(g.fig)\n",
    "\n",
    "    ogs = (ydnpd.UtilityTask\n",
    "         .plot_overall(utility_tasks_results,\n",
    "                       experiments,\n",
    "                       epsilon_reference=4)\n",
    "                                     \n",
    "    )\n",
    "\n",
    "    for g in ogs:\n",
    "          g.show()\n",
    "\n",
    "    for metric in ydnpd.EVALUATION_METRICS:\n",
    "        if metric not in utility_tasks_results[0][\"evaluation\"]:\n",
    "            continue\n",
    "\n",
    "        display(Markdown(f\"### {metric}\"))\n",
    "\n",
    "        gs = ydnpd.UtilityTask.plot(utility_tasks_results, experiments, metric=metric)\n",
    "\n",
    "        for g in gs:\n",
    "            display(g.fig)\n",
    "            plt.close(g.fig)\n",
    "\n",
    "    for metric in ydnpd.EVALUATION_METRICS:\n",
    "        if metric not in utility_tasks_results[0][\"evaluation\"]:\n",
    "            continue\n",
    "\n",
    "        display(Markdown(f\"### {metric}\"))\n",
    "        with pd.option_context(\"display.max_rows\", None):\n",
    "            display(\n",
    "                ydnpd.UtilityTask.evaluate(utility_tasks_results, experiments, metric)\n",
    "                .multiply(100)\n",
    "                .round(1)\n",
    "            )"
   ]
  },
  {
   "cell_type": "code",
   "execution_count": null,
   "metadata": {},
   "outputs": [],
   "source": []
  }
 ],
 "metadata": {
  "kernelspec": {
   "display_name": "ydnpd",
   "language": "python",
   "name": "python3"
  },
  "language_info": {
   "codemirror_mode": {
    "name": "ipython",
    "version": 3
   },
   "file_extension": ".py",
   "mimetype": "text/x-python",
   "name": "python",
   "nbconvert_exporter": "python",
   "pygments_lexer": "ipython3",
   "version": "3.10.16"
  }
 },
 "nbformat": 4,
 "nbformat_minor": 2
}
